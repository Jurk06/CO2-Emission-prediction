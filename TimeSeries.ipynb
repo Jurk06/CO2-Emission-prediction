{
 "cells": [
  {
   "cell_type": "code",
   "execution_count": 109,
   "metadata": {},
   "outputs": [],
   "source": [
    "import pandas as pd\n",
    "import numpy as np\n",
    "import pandas_datareader as pdr\n",
    "import matplotlib.pyplot as plt"
   ]
  },
  {
   "cell_type": "code",
   "execution_count": 110,
   "metadata": {},
   "outputs": [],
   "source": [
    "gld=pdr.get_data_yahoo('GLD', '2016-01-01', '2017-12-31')"
   ]
  },
  {
   "cell_type": "code",
   "execution_count": 111,
   "metadata": {},
   "outputs": [
    {
     "data": {
      "text/html": [
       "<div>\n",
       "<style scoped>\n",
       "    .dataframe tbody tr th:only-of-type {\n",
       "        vertical-align: middle;\n",
       "    }\n",
       "\n",
       "    .dataframe tbody tr th {\n",
       "        vertical-align: top;\n",
       "    }\n",
       "\n",
       "    .dataframe thead th {\n",
       "        text-align: right;\n",
       "    }\n",
       "</style>\n",
       "<table border=\"1\" class=\"dataframe\">\n",
       "  <thead>\n",
       "    <tr style=\"text-align: right;\">\n",
       "      <th></th>\n",
       "      <th>High</th>\n",
       "      <th>Low</th>\n",
       "      <th>Open</th>\n",
       "      <th>Close</th>\n",
       "      <th>Volume</th>\n",
       "      <th>Adj Close</th>\n",
       "    </tr>\n",
       "    <tr>\n",
       "      <th>Date</th>\n",
       "      <th></th>\n",
       "      <th></th>\n",
       "      <th></th>\n",
       "      <th></th>\n",
       "      <th></th>\n",
       "      <th></th>\n",
       "    </tr>\n",
       "  </thead>\n",
       "  <tbody>\n",
       "    <tr>\n",
       "      <th>2015-12-31</th>\n",
       "      <td>101.720001</td>\n",
       "      <td>101.309998</td>\n",
       "      <td>101.480003</td>\n",
       "      <td>101.459999</td>\n",
       "      <td>3823600</td>\n",
       "      <td>101.459999</td>\n",
       "    </tr>\n",
       "    <tr>\n",
       "      <th>2016-01-04</th>\n",
       "      <td>103.669998</td>\n",
       "      <td>102.489998</td>\n",
       "      <td>103.129997</td>\n",
       "      <td>102.889999</td>\n",
       "      <td>6440000</td>\n",
       "      <td>102.889999</td>\n",
       "    </tr>\n",
       "    <tr>\n",
       "      <th>2016-01-05</th>\n",
       "      <td>103.459999</td>\n",
       "      <td>102.930000</td>\n",
       "      <td>103.129997</td>\n",
       "      <td>103.180000</td>\n",
       "      <td>3500300</td>\n",
       "      <td>103.180000</td>\n",
       "    </tr>\n",
       "    <tr>\n",
       "      <th>2016-01-06</th>\n",
       "      <td>104.800003</td>\n",
       "      <td>103.930000</td>\n",
       "      <td>104.370003</td>\n",
       "      <td>104.669998</td>\n",
       "      <td>9316600</td>\n",
       "      <td>104.669998</td>\n",
       "    </tr>\n",
       "    <tr>\n",
       "      <th>2016-01-07</th>\n",
       "      <td>106.239998</td>\n",
       "      <td>105.190002</td>\n",
       "      <td>105.830002</td>\n",
       "      <td>106.150002</td>\n",
       "      <td>11730400</td>\n",
       "      <td>106.150002</td>\n",
       "    </tr>\n",
       "  </tbody>\n",
       "</table>\n",
       "</div>"
      ],
      "text/plain": [
       "                  High         Low        Open       Close    Volume  \\\n",
       "Date                                                                   \n",
       "2015-12-31  101.720001  101.309998  101.480003  101.459999   3823600   \n",
       "2016-01-04  103.669998  102.489998  103.129997  102.889999   6440000   \n",
       "2016-01-05  103.459999  102.930000  103.129997  103.180000   3500300   \n",
       "2016-01-06  104.800003  103.930000  104.370003  104.669998   9316600   \n",
       "2016-01-07  106.239998  105.190002  105.830002  106.150002  11730400   \n",
       "\n",
       "             Adj Close  \n",
       "Date                    \n",
       "2015-12-31  101.459999  \n",
       "2016-01-04  102.889999  \n",
       "2016-01-05  103.180000  \n",
       "2016-01-06  104.669998  \n",
       "2016-01-07  106.150002  "
      ]
     },
     "execution_count": 111,
     "metadata": {},
     "output_type": "execute_result"
    }
   ],
   "source": [
    "gld.head()"
   ]
  },
  {
   "cell_type": "code",
   "execution_count": null,
   "metadata": {},
   "outputs": [],
   "source": []
  },
  {
   "cell_type": "code",
   "execution_count": 112,
   "metadata": {},
   "outputs": [
    {
     "data": {
      "text/html": [
       "<div>\n",
       "<style scoped>\n",
       "    .dataframe tbody tr th:only-of-type {\n",
       "        vertical-align: middle;\n",
       "    }\n",
       "\n",
       "    .dataframe tbody tr th {\n",
       "        vertical-align: top;\n",
       "    }\n",
       "\n",
       "    .dataframe thead th {\n",
       "        text-align: right;\n",
       "    }\n",
       "</style>\n",
       "<table border=\"1\" class=\"dataframe\">\n",
       "  <thead>\n",
       "    <tr style=\"text-align: right;\">\n",
       "      <th></th>\n",
       "      <th>High</th>\n",
       "      <th>Low</th>\n",
       "      <th>Open</th>\n",
       "      <th>Close</th>\n",
       "      <th>Volume</th>\n",
       "      <th>Adj Close</th>\n",
       "    </tr>\n",
       "    <tr>\n",
       "      <th>Date</th>\n",
       "      <th></th>\n",
       "      <th></th>\n",
       "      <th></th>\n",
       "      <th></th>\n",
       "      <th></th>\n",
       "      <th></th>\n",
       "    </tr>\n",
       "  </thead>\n",
       "  <tbody>\n",
       "    <tr>\n",
       "      <th>2017-12-22</th>\n",
       "      <td>121.139999</td>\n",
       "      <td>120.570000</td>\n",
       "      <td>120.669998</td>\n",
       "      <td>120.940002</td>\n",
       "      <td>5791300</td>\n",
       "      <td>120.940002</td>\n",
       "    </tr>\n",
       "    <tr>\n",
       "      <th>2017-12-26</th>\n",
       "      <td>121.870003</td>\n",
       "      <td>121.510002</td>\n",
       "      <td>121.550003</td>\n",
       "      <td>121.769997</td>\n",
       "      <td>8224400</td>\n",
       "      <td>121.769997</td>\n",
       "    </tr>\n",
       "    <tr>\n",
       "      <th>2017-12-27</th>\n",
       "      <td>122.339996</td>\n",
       "      <td>121.879997</td>\n",
       "      <td>122.000000</td>\n",
       "      <td>122.230003</td>\n",
       "      <td>6232700</td>\n",
       "      <td>122.230003</td>\n",
       "    </tr>\n",
       "    <tr>\n",
       "      <th>2017-12-28</th>\n",
       "      <td>122.919998</td>\n",
       "      <td>122.559998</td>\n",
       "      <td>122.820000</td>\n",
       "      <td>122.849998</td>\n",
       "      <td>5732700</td>\n",
       "      <td>122.849998</td>\n",
       "    </tr>\n",
       "    <tr>\n",
       "      <th>2017-12-29</th>\n",
       "      <td>124.089996</td>\n",
       "      <td>123.459999</td>\n",
       "      <td>123.699997</td>\n",
       "      <td>123.650002</td>\n",
       "      <td>7852100</td>\n",
       "      <td>123.650002</td>\n",
       "    </tr>\n",
       "  </tbody>\n",
       "</table>\n",
       "</div>"
      ],
      "text/plain": [
       "                  High         Low        Open       Close   Volume  \\\n",
       "Date                                                                  \n",
       "2017-12-22  121.139999  120.570000  120.669998  120.940002  5791300   \n",
       "2017-12-26  121.870003  121.510002  121.550003  121.769997  8224400   \n",
       "2017-12-27  122.339996  121.879997  122.000000  122.230003  6232700   \n",
       "2017-12-28  122.919998  122.559998  122.820000  122.849998  5732700   \n",
       "2017-12-29  124.089996  123.459999  123.699997  123.650002  7852100   \n",
       "\n",
       "             Adj Close  \n",
       "Date                    \n",
       "2017-12-22  120.940002  \n",
       "2017-12-26  121.769997  \n",
       "2017-12-27  122.230003  \n",
       "2017-12-28  122.849998  \n",
       "2017-12-29  123.650002  "
      ]
     },
     "execution_count": 112,
     "metadata": {},
     "output_type": "execute_result"
    }
   ],
   "source": [
    "gld.tail()"
   ]
  },
  {
   "cell_type": "code",
   "execution_count": 113,
   "metadata": {},
   "outputs": [],
   "source": [
    "get_close=pd.DataFrame(gld.Close)"
   ]
  },
  {
   "cell_type": "code",
   "execution_count": 119,
   "metadata": {},
   "outputs": [],
   "source": [
    "get_close['get shift']=get_close.shift()"
   ]
  },
  {
   "cell_type": "code",
   "execution_count": 122,
   "metadata": {},
   "outputs": [
    {
     "data": {
      "text/html": [
       "<div>\n",
       "<style scoped>\n",
       "    .dataframe tbody tr th:only-of-type {\n",
       "        vertical-align: middle;\n",
       "    }\n",
       "\n",
       "    .dataframe tbody tr th {\n",
       "        vertical-align: top;\n",
       "    }\n",
       "\n",
       "    .dataframe thead th {\n",
       "        text-align: right;\n",
       "    }\n",
       "</style>\n",
       "<table border=\"1\" class=\"dataframe\">\n",
       "  <thead>\n",
       "    <tr style=\"text-align: right;\">\n",
       "      <th></th>\n",
       "      <th>Close</th>\n",
       "      <th>get shift</th>\n",
       "    </tr>\n",
       "    <tr>\n",
       "      <th>Date</th>\n",
       "      <th></th>\n",
       "      <th></th>\n",
       "    </tr>\n",
       "  </thead>\n",
       "  <tbody>\n",
       "    <tr>\n",
       "      <th>2015-12-31</th>\n",
       "      <td>101.459999</td>\n",
       "      <td>NaN</td>\n",
       "    </tr>\n",
       "    <tr>\n",
       "      <th>2016-01-04</th>\n",
       "      <td>102.889999</td>\n",
       "      <td>101.459999</td>\n",
       "    </tr>\n",
       "    <tr>\n",
       "      <th>2016-01-05</th>\n",
       "      <td>103.180000</td>\n",
       "      <td>102.889999</td>\n",
       "    </tr>\n",
       "    <tr>\n",
       "      <th>2016-01-06</th>\n",
       "      <td>104.669998</td>\n",
       "      <td>103.180000</td>\n",
       "    </tr>\n",
       "    <tr>\n",
       "      <th>2016-01-07</th>\n",
       "      <td>106.150002</td>\n",
       "      <td>104.669998</td>\n",
       "    </tr>\n",
       "  </tbody>\n",
       "</table>\n",
       "</div>"
      ],
      "text/plain": [
       "                 Close   get shift\n",
       "Date                              \n",
       "2015-12-31  101.459999         NaN\n",
       "2016-01-04  102.889999  101.459999\n",
       "2016-01-05  103.180000  102.889999\n",
       "2016-01-06  104.669998  103.180000\n",
       "2016-01-07  106.150002  104.669998"
      ]
     },
     "execution_count": 122,
     "metadata": {},
     "output_type": "execute_result"
    }
   ],
   "source": [
    "get_close.head()"
   ]
  },
  {
   "cell_type": "code",
   "execution_count": 123,
   "metadata": {},
   "outputs": [
    {
     "data": {
      "text/html": [
       "<div>\n",
       "<style scoped>\n",
       "    .dataframe tbody tr th:only-of-type {\n",
       "        vertical-align: middle;\n",
       "    }\n",
       "\n",
       "    .dataframe tbody tr th {\n",
       "        vertical-align: top;\n",
       "    }\n",
       "\n",
       "    .dataframe thead th {\n",
       "        text-align: right;\n",
       "    }\n",
       "</style>\n",
       "<table border=\"1\" class=\"dataframe\">\n",
       "  <thead>\n",
       "    <tr style=\"text-align: right;\">\n",
       "      <th></th>\n",
       "      <th>Close</th>\n",
       "      <th>get shift</th>\n",
       "      <th>diff</th>\n",
       "    </tr>\n",
       "    <tr>\n",
       "      <th>Date</th>\n",
       "      <th></th>\n",
       "      <th></th>\n",
       "      <th></th>\n",
       "    </tr>\n",
       "  </thead>\n",
       "  <tbody>\n",
       "    <tr>\n",
       "      <th>2015-12-31</th>\n",
       "      <td>101.459999</td>\n",
       "      <td>NaN</td>\n",
       "      <td>NaN</td>\n",
       "    </tr>\n",
       "    <tr>\n",
       "      <th>2016-01-04</th>\n",
       "      <td>102.889999</td>\n",
       "      <td>101.459999</td>\n",
       "      <td>1.430000</td>\n",
       "    </tr>\n",
       "    <tr>\n",
       "      <th>2016-01-05</th>\n",
       "      <td>103.180000</td>\n",
       "      <td>102.889999</td>\n",
       "      <td>0.290001</td>\n",
       "    </tr>\n",
       "    <tr>\n",
       "      <th>2016-01-06</th>\n",
       "      <td>104.669998</td>\n",
       "      <td>103.180000</td>\n",
       "      <td>1.489998</td>\n",
       "    </tr>\n",
       "    <tr>\n",
       "      <th>2016-01-07</th>\n",
       "      <td>106.150002</td>\n",
       "      <td>104.669998</td>\n",
       "      <td>1.480003</td>\n",
       "    </tr>\n",
       "  </tbody>\n",
       "</table>\n",
       "</div>"
      ],
      "text/plain": [
       "                 Close   get shift      diff\n",
       "Date                                        \n",
       "2015-12-31  101.459999         NaN       NaN\n",
       "2016-01-04  102.889999  101.459999  1.430000\n",
       "2016-01-05  103.180000  102.889999  0.290001\n",
       "2016-01-06  104.669998  103.180000  1.489998\n",
       "2016-01-07  106.150002  104.669998  1.480003"
      ]
     },
     "execution_count": 123,
     "metadata": {},
     "output_type": "execute_result"
    }
   ],
   "source": [
    "get_close['diff']=get_close.Close-get_close['get shift']\n",
    "get_close.head()"
   ]
  },
  {
   "cell_type": "code",
   "execution_count": 132,
   "metadata": {},
   "outputs": [],
   "source": [
    "get_close['MA']=get_close.Close.rolling(9).mean().shift()\n",
    "get_close['MA_12']=get_close.Close.rolling(12).mean()"
   ]
  },
  {
   "cell_type": "code",
   "execution_count": 133,
   "metadata": {},
   "outputs": [
    {
     "data": {
      "text/plain": [
       "Date\n",
       "2015-12-31   NaN\n",
       "2016-01-04   NaN\n",
       "2016-01-05   NaN\n",
       "2016-01-06   NaN\n",
       "2016-01-07   NaN\n",
       "Name: MA, dtype: float64"
      ]
     },
     "execution_count": 133,
     "metadata": {},
     "output_type": "execute_result"
    }
   ],
   "source": [
    "get_close['MA'].head()"
   ]
  },
  {
   "cell_type": "code",
   "execution_count": 135,
   "metadata": {},
   "outputs": [
    {
     "data": {
      "text/plain": [
       "<matplotlib.legend.Legend at 0x29de1edc5c0>"
      ]
     },
     "execution_count": 135,
     "metadata": {},
     "output_type": "execute_result"
    },
    {
     "data": {
      "image/png": "[encoded data removed]",
      "text/plain": [
       "<Figure size 1080x576 with 1 Axes>"
      ]
     },
     "metadata": {},
     "output_type": "display_data"
    }
   ],
   "source": [
    "plt.figure(figsize=(15,8))\n",
    "plt.grid(True)\n",
    "plt.plot(get_close['MA'], label=\"gold \")\n",
    "plt.plot(get_close['MA_12'], label=\"Gold_12\")\n",
    "plt.legend()"
   ]
  },
  {
   "cell_type": "code",
   "execution_count": 136,
   "metadata": {},
   "outputs": [],
   "source": [
    "get_close['Change']=np.log(get_close['Close']/get_close['Close'].shift())"
   ]
  },
  {
   "cell_type": "code",
   "execution_count": 137,
   "metadata": {},
   "outputs": [
    {
     "data": {
      "text/plain": [
       "[<matplotlib.lines.Line2D at 0x29de3e924a8>]"
      ]
     },
     "execution_count": 137,
     "metadata": {},
     "output_type": "execute_result"
    },
    {
     "data": {
      "image/png": "[encoded data removed]",
      "text/plain": [
       "<Figure size 432x288 with 1 Axes>"
      ]
     },
     "metadata": {},
     "output_type": "display_data"
    }
   ],
   "source": [
    "plt.plot(get_close.Change)"
   ]
  },
  {
   "cell_type": "code",
   "execution_count": null,
   "metadata": {},
   "outputs": [],
   "source": []
  }
 ],
 "metadata": {
  "kernelspec": {
   "display_name": "Python 3",
   "language": "python",
   "name": "python3"
  },
  "language_info": {
   "codemirror_mode": {
    "name": "ipython",
    "version": 3
   },
   "file_extension": ".py",
   "mimetype": "text/x-python",
   "name": "python",
   "nbconvert_exporter": "python",
   "pygments_lexer": "ipython3",
   "version": "3.6.5"
  }
 },
 "nbformat": 4,
 "nbformat_minor": 2
}
